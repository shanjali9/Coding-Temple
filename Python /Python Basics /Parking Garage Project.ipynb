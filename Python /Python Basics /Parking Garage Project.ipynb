{
 "cells": [
  {
   "cell_type": "markdown",
   "metadata": {},
   "source": [
    "# Parking Garage Project\n",
    "\n",
    "Your assignment for today is to create a parking garage class to get more familiar with Object Oriented Programming(OOP). \n",
    "\n",
    "Your parking gargage class should have the following methods:\n",
    "- takeTicket\n",
    "   - This should decrease the amount of tickets available by 1\n",
    "   - This should decrease the amount of parkingSpaces available by 1\n",
    "- payForParking\n",
    "   - Display an input that waits for an amount from the user and store it in a variable\n",
    "   - If the payment variable is not empty then ->  display a message to the user that their ticket has been paid and they have 15mins to leave\n",
    "   - This should update the \"currentTicket\" dictionary key \"paid\" to True\n",
    "-leaveGarage\n",
    "   - If the ticket has been paid, display a message of \"Thank You, have a nice day\"\n",
    "   - If the ticket has not been paid, display an input prompt for payment\n",
    "      - Once paid, display message \"Thank you, have a nice day!\"\n",
    "   - Update parkingSpaces list to increase by 1\n",
    "   - Update tickets list to increase by 1\n",
    "\n",
    "You will need a few attributes as well:\n",
    "- tickets -> list\n",
    "- parkingSpaces -> list\n",
    "- currentTicket -> dictionary"
   ]
  },
  {
   "cell_type": "code",
   "execution_count": 1,
   "metadata": {},
   "outputs": [
    {
     "name": "stdout",
     "output_type": "stream",
     "text": [
      "Ticket number 1 has been taken. Parking space 1 is now occupied.\n"
     ]
    }
   ],
   "source": [
    "# Your Code will go here\n",
    "class ParkingGarage:\n",
    "    def __init__(self, total_tickets, total_spaces):\n",
    "        self.tickets = list(range(1, total_tickets + 1))\n",
    "        self.parking_spaces = list(range(1, total_spaces + 1))\n",
    "        self.current_ticket = {}\n",
    "\n",
    "    def takeTicket(self):\n",
    "        if self.tickets and self.parking_spaces:\n",
    "            ticket = self.tickets.pop(0)\n",
    "            space = self.parking_spaces.pop(0)\n",
    "            self.current_ticket[ticket] = {'paid': False}\n",
    "            print(f'Ticket number {ticket} has been taken. Parking space {space} is now occupied.')\n",
    "        else:\n",
    "            print('No tickets or parking spaces available')\n",
    "            \n",
    "    def payForParking(self, ticket_number):\n",
    "        if ticket_number in self.current_ticket:\n",
    "            payment = input('Enter payment amount: ')\n",
    "            if payment:\n",
    "                self.current_ticket[ticket_number]['paid'] = True\n",
    "                print('Your ticket has been paid. You have 15 mins to leave.')\n",
    "            else:\n",
    "                print('No payment received. Please try again.')\n",
    "        else:\n",
    "            print('Invalid ticket number.')\n",
    "            \n",
    "def leaveGarage(self, ticket_number):\n",
    "        if ticket_number in self.current_ticket:\n",
    "            if self.current_ticket[ticket_number]['paid']:\n",
    "                print('Thank you, have a nice day!')\n",
    "                self.parking_spaces.append(ticket_number)\n",
    "                self.tickets.append(ticket_number)\n",
    "                del self.current_ticket[ticket_number]\n",
    "            else:\n",
    "                print('Your ticket has not been paid.')\n",
    "                payment = input('Enter payment amount: ')\n",
    "                if payment:\n",
    "                    self.current_ticket[ticket_number]['paid'] = True\n",
    "                    print('Thank you, have a nice day!')\n",
    "                    self.parking_spaces.append(ticket_number)\n",
    "                    self.tickets.append(ticket_number)\n",
    "                    del self.current_ticket[ticket_number]\n",
    "                else:\n",
    "                    print('No payment received. Please try again.')\n",
    "        else:\n",
    "            print('Invalid ticket number.')\n",
    "\n",
    "# Test the leaveGarage method\n",
    "garage = ParkingGarage(total_tickets=10, total_spaces=10)\n",
    "garage.takeTicket()\n",
    "garage.payForParking(1)  # Assuming the ticket number is 1\n",
    "garage.leaveGarage(1)  # Assuming the ticket number is 1"
   ]
  }
 ],
 "metadata": {
  "kernelspec": {
   "display_name": "Python 3",
   "language": "python",
   "name": "python3"
  },
  "language_info": {
   "codemirror_mode": {
    "name": "ipython",
    "version": 3
   },
   "file_extension": ".py",
   "mimetype": "text/x-python",
   "name": "python",
   "nbconvert_exporter": "python",
   "pygments_lexer": "ipython3",
   "version": "3.12.1"
  }
 },
 "nbformat": 4,
 "nbformat_minor": 2
}
